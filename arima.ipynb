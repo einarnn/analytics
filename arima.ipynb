{
 "cells": [
  {
   "cell_type": "markdown",
   "metadata": {},
   "source": [
    "# ARIMA Experimentation"
   ]
  },
  {
   "cell_type": "markdown",
   "metadata": {},
   "source": [
    "## Setup Imports, Etc"
   ]
  },
  {
   "cell_type": "code",
   "execution_count": null,
   "metadata": {},
   "outputs": [],
   "source": [
    "import numpy as np\n",
    "import pandas as pd\n",
    "from bokeh.plotting import figure, show\n",
    "from bokeh.io import output_notebook\n",
    "from statsmodels.tsa.arima.model import ARIMA\n",
    "from sklearn.metrics import mean_squared_error\n",
    "from tqdm import tqdm\n",
    "import util\n",
    "\n",
    "output_notebook()"
   ]
  },
  {
   "cell_type": "markdown",
   "metadata": {},
   "source": [
    "## Generate Data"
   ]
  },
  {
   "cell_type": "code",
   "execution_count": null,
   "metadata": {},
   "outputs": [],
   "source": [
    "# Number of days to generate data for; only works for 1 just now!\n",
    "DAYS = 1\n",
    "\n",
    "# generate a numpy array of raw data first\n",
    "d = util.gen_data(days=DAYS)\n",
    "\n",
    "# turn it into a pandas data frame\n",
    "# df = pd.DataFrame({'Time': d[:, 0], 'ACEs': d[:, 1]})\n",
    "\n",
    "values = d[:, 1]\n",
    "train, test = values[:100], values[100:]\n",
    "history = [x for x in train]\n",
    "predictions = [x for x in train]\n",
    "predictions5 = [x for x in values[:104]]\n",
    "\n",
    "# loop over test array now\n",
    "for t in tqdm(range(len(test))):\n",
    "    \n",
    "    # fit to history so far\n",
    "    model = ARIMA(history, order=(5, 1, 0))\n",
    "    model_fit = model.fit()\n",
    "\n",
    "    # one time step\n",
    "    output = model_fit.forecast()\n",
    "    yhat = output[0]\n",
    "    \n",
    "    # 5 time steps\n",
    "    output5 = model_fit.forecast(steps=5)\n",
    "    yhat5 = output5[4]\n",
    "    \n",
    "    # save predictions\n",
    "    predictions.append(yhat)\n",
    "    predictions5.append(yhat5)\n",
    "    \n",
    "    obs = test[t]\n",
    "    history.append(obs)\n",
    "\n",
    "# only consider first 1440 data points on 5-step predictions\n",
    "predictions5 = predictions5[:1440]\n",
    "\n",
    "# calculate errors\n",
    "error = mean_squared_error(history, predictions)\n",
    "print('Test MSE (one time step)   : %.3f' % error)\n",
    "\n",
    "error5 = mean_squared_error(history, predictions5)\n",
    "print('Test MSE (five time steps) : %.3f' % error5)"
   ]
  },
  {
   "cell_type": "markdown",
   "metadata": {},
   "source": [
    "## Plot Results"
   ]
  },
  {
   "cell_type": "code",
   "execution_count": null,
   "metadata": {},
   "outputs": [],
   "source": [
    "p = figure(min_width=900)\n",
    "\n",
    "p.line(x=np.arange(0, 1440), y=history, color='green')\n",
    "p.line(x=np.arange(0, 1440), y=predictions, color='red')\n",
    "p.line(x=np.arange(0, 1440), y=predictions5, color='pink')\n",
    "\n",
    "show(p)"
   ]
  },
  {
   "cell_type": "code",
   "execution_count": null,
   "metadata": {},
   "outputs": [],
   "source": []
  }
 ],
 "metadata": {
  "kernelspec": {
   "display_name": "Python 3 (ipykernel)",
   "language": "python",
   "name": "python3"
  },
  "language_info": {
   "codemirror_mode": {
    "name": "ipython",
    "version": 3
   },
   "file_extension": ".py",
   "mimetype": "text/x-python",
   "name": "python",
   "nbconvert_exporter": "python",
   "pygments_lexer": "ipython3",
   "version": "3.10.15"
  }
 },
 "nbformat": 4,
 "nbformat_minor": 4
}
