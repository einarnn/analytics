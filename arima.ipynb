{
 "cells": [
  {
   "cell_type": "markdown",
   "metadata": {},
   "source": [
    "# ARIMA Experimentation"
   ]
  },
  {
   "cell_type": "code",
   "execution_count": 1,
   "metadata": {},
   "outputs": [
    {
     "name": "stderr",
     "output_type": "stream",
     "text": [
      "100%|██████████| 1340/1340 [02:55<00:00,  7.62it/s]\n"
     ]
    },
    {
     "name": "stdout",
     "output_type": "stream",
     "text": [
      "Test MSE: 4.816\n"
     ]
    },
    {
     "data": {
      "image/png": "[encoded data removed]",
      "text/plain": [
       "<Figure size 432x288 with 1 Axes>"
      ]
     },
     "metadata": {
      "needs_background": "light"
     },
     "output_type": "display_data"
    }
   ],
   "source": [
    "import matplotlib as mpl\n",
    "import matplotlib.pyplot as plt\n",
    "import numpy as np\n",
    "import os\n",
    "import pandas as pd\n",
    "import util\n",
    "from statsmodels.tsa.arima_model import ARIMA\n",
    "from sklearn.metrics import mean_squared_error\n",
    "from tqdm import tqdm\n",
    "\n",
    "\n",
    "%matplotlib inline\n",
    "\n",
    "df = util.gen_random_data_frame()['Security ACEs']\n",
    "# df.plot()\n",
    "\n",
    "values = df.values\n",
    "train, test = values[:100], values[100:]\n",
    "history = [x for x in train]\n",
    "predictions = list()\n",
    "\n",
    "# loop over test array now\n",
    "for t in tqdm(range(len(test))):\n",
    "    model = ARIMA(history, order=(5, 1, 0))\n",
    "    model_fit = model.fit(disp=0)\n",
    "    output = model_fit.forecast()\n",
    "    yhat = output[0]\n",
    "    predictions.append(yhat)\n",
    "    obs = test[t]\n",
    "    history.append(obs)\n",
    "    # print('predicted=%f, expected=%f' % (yhat, obs))\n",
    "\n",
    "error = mean_squared_error(test, predictions)\n",
    "print('Test MSE: %.3f' % error)\n",
    "\n",
    "plt.plot(df.values, color='green')\n",
    "plt.plot(np.insert(test, 0, train), color='blue')\n",
    "plt.plot(history, color='orange')\n",
    "plt.show()"
   ]
  },
  {
   "cell_type": "code",
   "execution_count": null,
   "metadata": {},
   "outputs": [],
   "source": [
    "# fit model\n",
    "#model = ARIMA(df, order=(5,1,0))\n",
    "#model_fit = model.fit()\n",
    "#print(model_fit.summary())\n",
    "\n",
    "# plot residual errors\n",
    "#residuals = pd.DataFrame(model_fit.resid)\n",
    "#residuals.plot()\n",
    "#plt.show()\n",
    "#residuals.plot(kind='kde')\n",
    "#plt.show()\n",
    "#print(residuals.describe())"
   ]
  }
 ],
 "metadata": {
  "kernelspec": {
   "display_name": "Python 3",
   "language": "python",
   "name": "python3"
  },
  "language_info": {
   "codemirror_mode": {
    "name": "ipython",
    "version": 3
   },
   "file_extension": ".py",
   "mimetype": "text/x-python",
   "name": "python",
   "nbconvert_exporter": "python",
   "pygments_lexer": "ipython3",
   "version": "3.7.5"
  }
 },
 "nbformat": 4,
 "nbformat_minor": 2
}
