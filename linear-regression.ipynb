{
 "cells": [
  {
   "cell_type": "markdown",
   "metadata": {},
   "source": [
    "# Linear Regession\n",
    "\n",
    "Derived from:\n",
    "\n",
    "> https://stackabuse.com/linear-regression-in-python-with-scikit-learn/\n",
    "> https://docs.scipy.org/doc/numpy/reference/generated/numpy.polyfit.html?highlight=polyfit#numpy.polyfit"
   ]
  },
  {
   "cell_type": "markdown",
   "metadata": {},
   "source": [
    "## Generate Some Time-Based Data & Predict\n",
    "\n",
    "Idea is to:\n",
    "\n",
    "- Generate some sample data looking like its' time-based\n",
    "- Perform a linear regression\n",
    "- Predict 10 minutes ahead"
   ]
  },
  {
   "cell_type": "code",
   "execution_count": null,
   "metadata": {},
   "outputs": [],
   "source": [
    "#\n",
    "# set up standard imports in point bokeh to the notebook\n",
    "#\n",
    "import pandas as pd\n",
    "import numpy as np\n",
    "import time\n",
    "import random\n",
    "import util\n",
    "from tqdm import tqdm\n",
    "from bokeh.plotting import figure, show, gridplot\n",
    "from bokeh.io import output_notebook\n",
    "\n",
    "output_notebook()"
   ]
  },
  {
   "cell_type": "markdown",
   "metadata": {},
   "source": [
    "## Generate Some Data"
   ]
  },
  {
   "cell_type": "code",
   "execution_count": null,
   "metadata": {},
   "outputs": [],
   "source": [
    "# Number of days to generate data for\n",
    "DAYS = 1\n",
    "\n",
    "# generate a numpy array of raw data first\n",
    "d = util.gen_data(days=DAYS, timesteps_per_day=1440)\n",
    "\n",
    "# turn it into a pandas data frame\n",
    "df = pd.DataFrame({'Time': d[:, 0], 'ACEs': d[:, 1]})"
   ]
  },
  {
   "cell_type": "markdown",
   "metadata": {},
   "source": [
    "## Plot Data"
   ]
  },
  {
   "cell_type": "code",
   "execution_count": null,
   "metadata": {},
   "outputs": [],
   "source": [
    "p = figure(min_width=900)\n",
    "p.line(x=df['Time'], y=df['ACEs'], color='steelblue', line_width=3)\n",
    "\n",
    "show(p)"
   ]
  },
  {
   "cell_type": "markdown",
   "metadata": {},
   "source": [
    "## Linear Regression\n",
    "\n",
    "Let's do linear regression using two libraries. First, SciKit Learn, then numpy."
   ]
  },
  {
   "cell_type": "code",
   "execution_count": null,
   "metadata": {},
   "outputs": [],
   "source": [
    "from sklearn.model_selection import train_test_split\n",
    "from sklearn.linear_model import LinearRegression\n",
    "\n",
    "# split data in the x and y axes\n",
    "x = df.iloc[:, :-1].values\n",
    "y = df.iloc[:, 1].values\n",
    "\n",
    "# after all that, run the LR algorithm\n",
    "regressor = LinearRegression()\n",
    "regressor.fit(x, y)\n",
    "\n",
    "# ...and display the resulting intercept and co-efficient\n",
    "print('Intercept : %0.9f' % regressor.intercept_)\n",
    "print('Slope     : %0.9f' % regressor.coef_[0])"
   ]
  },
  {
   "cell_type": "code",
   "execution_count": null,
   "metadata": {},
   "outputs": [],
   "source": [
    "# split data in the x and y axes\n",
    "x = df['Time'].values\n",
    "y = df['ACEs'].values\n",
    "\n",
    "# use numpy to calculate linear regression\n",
    "POLY_ORDER = 30\n",
    "fit = np.polyfit(x, y, POLY_ORDER, full=True)\n",
    "\n",
    "for order, coef in enumerate(fit[0]):\n",
    "    print('coef[x^%d] = %0.9f' % (POLY_ORDER - order, coef))"
   ]
  },
  {
   "cell_type": "markdown",
   "metadata": {},
   "source": [
    "## Plot Real Data & LR Curve\n",
    "\n",
    "We can use the intercept and coefficient from either algorithm, but we will see that taken over an extended period it's a pretty bad fit!"
   ]
  },
  {
   "cell_type": "code",
   "execution_count": null,
   "metadata": {},
   "outputs": [],
   "source": [
    "# generate the time axis\n",
    "t = np.arange(0, 1440)\n",
    "\n",
    "intercept = fit[0][1]\n",
    "c = fit[0][0]\n",
    "\n",
    "# linear regression curve\n",
    "y_lr = [np.polyval(fit[0], x) for x in t]\n",
    "\n",
    "# plot\n",
    "p = figure(min_width=900, min_height=600)\n",
    "p.line(x=t, y=y, color='green', legend_label='Observed Data', line_width=3)\n",
    "p.line(x=t, y=y_lr, color='red', legend_label='LR Curve', line_width=3)\n",
    "show(p)"
   ]
  },
  {
   "cell_type": "markdown",
   "metadata": {},
   "source": [
    "## Can We Still Use LR?\n",
    "\n",
    "Maybe. What if instead of looking at the entire data set, we instead consider a prediction use case, where we want to see if the LR curve over a smaller time window of history predicts that we will breach some arbitrary threshold within a certain time period.\n",
    "\n",
    "But, as we will see, we need to be cafeful!!\n",
    "\n",
    "This example will:\n",
    "\n",
    "- Take the original test data and incrementally feed it in as a set of test data.\n",
    "- We will only start analyzing in this case about 480 datapoints in (about 8am in our simulated data)\n",
    "- Every `SAMPLE_EVERY` data points we will fit a first order polynomial to the last `WINDOW_SIZE` data points, and try to predict `LOOKAHEAD` data points into the future.\n",
    "- We will plot several things:\n",
    "    - The last `DISPLAY_SIZE` data points (blue dots!)\n",
    "    - The fitted LR curve up to `LOOKAHEAD` points in the future (red line with a red X at the end)\n",
    "    - The real data points up to `LOOKAHEAD` points in the future (green Xs)\n",
    "    \n",
    "...and we shall keep on running until both the predicted **and** real values go over the value `THRESHOLD`."
   ]
  },
  {
   "cell_type": "code",
   "execution_count": null,
   "metadata": {},
   "outputs": [],
   "source": [
    "# where to start in data set to ignore boring data\n",
    "START = 480\n",
    "\n",
    "# how many samples to perform the LR over\n",
    "WINDOW_SIZE = 10\n",
    "\n",
    "# how many samples to perform the LR over\n",
    "DISPLAY_SIZE = 30\n",
    "\n",
    "# how often to run the LR\n",
    "SAMPLE_EVERY = 5\n",
    "\n",
    "# how far ahead do we want to try and predict?\n",
    "LOOKAHEAD = 10\n",
    "\n",
    "# what is the arbitrary limit?\n",
    "THRESHOLD = 400\n",
    "\n",
    "# define plot parameters\n",
    "PLOT_SIZE = 200\n",
    "PLOTS_PER_ROW = 3\n",
    "\n",
    "# generate a numpy array of raw data first; different every time we run!\n",
    "d = util.gen_data(days=1)\n",
    "x = d[:, 0]\n",
    "y = d[:, 1]\n",
    "\n",
    "plot_list = []\n",
    "for i in tqdm(x[START:]):\n",
    "    \n",
    "    # only do something if we have enough samples AND we're at a sample point\n",
    "    if (i >= WINDOW_SIZE) and not (i % SAMPLE_EVERY):\n",
    "\n",
    "        # take the window of data to do LR over\n",
    "        x_display = x[i-DISPLAY_SIZE:i]\n",
    "        y_display = y[i-DISPLAY_SIZE:i]\n",
    "        \n",
    "        # take the window of data to do LR over\n",
    "        x_lr = x[i-WINDOW_SIZE:i]\n",
    "        y_lr = y[i-WINDOW_SIZE:i]\n",
    "        \n",
    "        # do the linear regression using numpy\n",
    "        fit = np.polyfit(x_lr, y_lr, 1, full=True)\n",
    "        intercept = fit[0][1]\n",
    "        c = fit[0][0]\n",
    "\n",
    "        # plot the sample data if the gradient > 0\n",
    "        if c > 0.0:\n",
    "\n",
    "            # title of plot, the equation\n",
    "            title = 'time = %d' % i\n",
    "            \n",
    "            # scatter plot of raw data plus LR curve\n",
    "            p = figure(min_width=PLOT_SIZE, min_height=PLOT_SIZE, title=title, toolbar_location=None)\n",
    "            \n",
    "            # mark the display points of real data so far\n",
    "            p.scatter(x=x_display, y=y_display, color='navy', size=3)\n",
    "            \n",
    "            # overlay the LR-calculated curve, up to the prediction\n",
    "            x_lr = np.append(x_lr, x[i + LOOKAHEAD])\n",
    "            p.line(x=x_lr, y=[intercept + c * x for x in x_lr], color='red', line_width=2)\n",
    "            \n",
    "            # add the constant threshold line\n",
    "            x_display = np.append(x_display, i + LOOKAHEAD)\n",
    "            y_thresh = [THRESHOLD for _ in x_display]\n",
    "            p.line(x=x_display, y=y_thresh, color='orange', line_width=2)\n",
    "            \n",
    "            # mark the lookahead prediction\n",
    "            p.scatter(marker='x', x=[i+LOOKAHEAD], y=[intercept + c * (i+LOOKAHEAD)], color='red', size=10)\n",
    "            \n",
    "            # Mark the real values between now and the prediction\n",
    "            p.scatter(marker='x', x=x[i:i+LOOKAHEAD], y=y[i:i+LOOKAHEAD], color='darkgreen', size=6)\n",
    "            \n",
    "            # add plot to plot list\n",
    "            plot_list.append(p)\n",
    "            \n",
    "            # check if calculate we've breached the threshhold at now + LOOKAHEAD\n",
    "            check_prediction = intercept + c * (i + LOOKAHEAD)\n",
    "            check_real = y[i + LOOKAHEAD]\n",
    "            if (check_prediction > THRESHOLD) and (check_real > THRESHOLD):\n",
    "                print('Hit exit condition at time t=%d!' % i)\n",
    "                break\n",
    "            if (check_prediction > THRESHOLD) or (check_real > THRESHOLD):\n",
    "                SAMPLE_EVERY = 1\n",
    "\n",
    "                \n",
    "# reshape plot list\n",
    "modded = len(plot_list) % PLOTS_PER_ROW\n",
    "if modded > 0:\n",
    "    missing = PLOTS_PER_ROW - modded\n",
    "    for _ in range(0, missing): plot_list.append(None)\n",
    "        \n",
    "plot_list = util.reshape(plot_list, [2, PLOTS_PER_ROW])\n",
    "p = gridplot(plot_list)\n",
    "show(p)"
   ]
  },
  {
   "cell_type": "markdown",
   "metadata": {},
   "source": [
    "## Display Plots In Individual Rows\n",
    "\n",
    "This makes it easier to capture image files if necessary."
   ]
  },
  {
   "cell_type": "code",
   "execution_count": null,
   "metadata": {},
   "outputs": [],
   "source": [
    "for row_plot in plot_list:\n",
    "    p = gridplot([row_plot])\n",
    "    show(p)"
   ]
  },
  {
   "cell_type": "code",
   "execution_count": null,
   "metadata": {},
   "outputs": [],
   "source": []
  }
 ],
 "metadata": {
  "kernelspec": {
   "display_name": "Python 3 (ipykernel)",
   "language": "python",
   "name": "python3"
  },
  "language_info": {
   "codemirror_mode": {
    "name": "ipython",
    "version": 3
   },
   "file_extension": ".py",
   "mimetype": "text/x-python",
   "name": "python",
   "nbconvert_exporter": "python",
   "pygments_lexer": "ipython3",
   "version": "3.10.15"
  }
 },
 "nbformat": 4,
 "nbformat_minor": 4
}
